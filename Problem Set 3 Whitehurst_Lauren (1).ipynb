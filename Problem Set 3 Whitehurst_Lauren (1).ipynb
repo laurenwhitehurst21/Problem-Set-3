{
 "cells": [
  {
   "cell_type": "code",
   "execution_count": 8,
   "metadata": {},
   "outputs": [
    {
     "ename": "NameError",
     "evalue": "name 'Class_Files' is not defined",
     "output_type": "error",
     "traceback": [
      "\u001b[1;31m---------------------------------------------------------------------------\u001b[0m",
      "\u001b[1;31mNameError\u001b[0m                                 Traceback (most recent call last)",
      "\u001b[1;32m<ipython-input-8-d8e5ece5a7fb>\u001b[0m in \u001b[0;36m<module>\u001b[1;34m()\u001b[0m\n\u001b[0;32m      1\u001b[0m \u001b[1;31m#Problem Set 3 Question 1\u001b[0m\u001b[1;33m\u001b[0m\u001b[1;33m\u001b[0m\u001b[0m\n\u001b[1;32m----> 2\u001b[1;33m \u001b[0mfhand\u001b[0m \u001b[1;33m=\u001b[0m \u001b[0mopen\u001b[0m\u001b[1;33m(\u001b[0m\u001b[0mClass_Files\u001b[0m\u001b[1;33m/\u001b[0m\u001b[0mdata\u001b[0m\u001b[1;33m/\u001b[0m\u001b[0mCO\u001b[0m\u001b[1;33m-\u001b[0m\u001b[0mOPS__8729108__wl\u001b[0m\u001b[1;33m.\u001b[0m\u001b[0mcsv\u001b[0m\u001b[1;33m)\u001b[0m\u001b[1;33m\u001b[0m\u001b[0m\n\u001b[0m\u001b[0;32m      3\u001b[0m \u001b[0mdate\u001b[0m\u001b[1;33m=\u001b[0m\u001b[1;32mNone\u001b[0m\u001b[1;33m\u001b[0m\u001b[0m\n\u001b[0;32m      4\u001b[0m \u001b[0mlargest\u001b[0m\u001b[1;33m=\u001b[0m\u001b[1;32mNone\u001b[0m\u001b[1;33m\u001b[0m\u001b[0m\n\u001b[0;32m      5\u001b[0m \u001b[1;32mfor\u001b[0m \u001b[0mline\u001b[0m \u001b[1;32min\u001b[0m \u001b[0mfhand\u001b[0m\u001b[1;33m:\u001b[0m\u001b[1;33m\u001b[0m\u001b[0m\n",
      "\u001b[1;31mNameError\u001b[0m: name 'Class_Files' is not defined"
     ]
    }
   ],
   "source": [
    "##I wrote these as scripts on the cluster.\n",
    "#Problem Set 3 Question 1\n",
    "fhand=open('/ufrc/zoo6927/laurenwhitehurst/CO-OPS__8729108__wl.csv')\n",
    "date=None\n",
    "largest=None\n",
    "for line in fhand:\n",
    "        columns=line.split(',')\n",
    "\n",
    "        try:\n",
    "                date_time=(columns[0])\n",
    "                water_level=float(columns[1])\n",
    "        except:\n",
    "                continue\n",
    "        if date is None or date_time>date_time>date:\n",
    "                date=date_time\n",
    "        if largest is None or water_level>largest:\n",
    "                largest=water_level\n",
    "\n",
    "print (\"Date and Time:\", date)\n",
    "print(\"Highest water level:\", largest)\n",
    "\n",
    "#Question 2\n",
    "import pandas as pd\n",
    "\n",
    "df = pd.read_csv('/ufrc/zoo6927/laurenwhitehurst/CO-OPS__8729108__wl.csv')\n",
    "\n",
    "print (df.loc[df [ ' Water Level'].idxmax()])\n",
    "\n",
    "#Question 3\n",
    "import pandas as pd\n",
    "\n",
    "df = pd.read_csv('/ufrc/zoo6927/laurenwhitehurst/CO-OPS__8729108__wl.csv')\n",
    "\n",
    "df.groupby( [ ' Water Level']).pct_change()\n",
    "\n",
    "#Question 4\n",
    "%matplotlib inline\n",
    "\n",
    "import matplotlib.pyplot as plt\n",
    "import numpy as np\n",
    "import pandas as pd\n",
    "\n",
    "df = pd.read_csv('/ufrc/zoo6927/laurenwhitehurst/CO-OPS__8729108__wl.csv')\n",
    "\n",
    "water_level, time = df[' Water Level'], [' Date Time']\n",
    "x=time\n",
    "y=water_level\n",
    "plt.plot(x, y)\n",
    "\n",
    "#Question 5 Peer Review\n",
    "\n",
    "#Bonus Attempt\n",
    "https://tidesandcurrents.noaa.gov/api/datagetter?date=today&station=8729108&product=water_level&datum=MSL&time_zone=lst_ldt& \n",
    "units=metric&application=web_services&format=csv\n",
    "\n"
   ]
  },
  {
   "cell_type": "code",
   "execution_count": null,
   "metadata": {},
   "outputs": [],
   "source": []
  }
 ],
 "metadata": {
  "kernelspec": {
   "display_name": "Python 3",
   "language": "python",
   "name": "python3"
  },
  "language_info": {
   "codemirror_mode": {
    "name": "ipython",
    "version": 3
   },
   "file_extension": ".py",
   "mimetype": "text/x-python",
   "name": "python",
   "nbconvert_exporter": "python",
   "pygments_lexer": "ipython3",
   "version": "3.7.0"
  }
 },
 "nbformat": 4,
 "nbformat_minor": 2
}
